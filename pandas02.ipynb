{
  "nbformat": 4,
  "nbformat_minor": 0,
  "metadata": {
    "colab": {
      "name": "pandas02.ipynb",
      "provenance": [],
      "collapsed_sections": [],
      "mount_file_id": "1LVsi3I1-swpou8_zdbeqHZPF8bgKxjYj",
      "authorship_tag": "ABX9TyPHKunLCwtwkDkXLs6RMGQz",
      "include_colab_link": true
    },
    "kernelspec": {
      "name": "python3",
      "display_name": "Python 3"
    }
  },
  "cells": [
    {
      "cell_type": "markdown",
      "metadata": {
        "id": "view-in-github",
        "colab_type": "text"
      },
      "source": [
        "<a href=\"https://colab.research.google.com/github/nin844/it_practice/blob/main/pandas02.ipynb\" target=\"_parent\"><img src=\"https://colab.research.google.com/assets/colab-badge.svg\" alt=\"Open In Colab\"/></a>"
      ]
    },
    {
      "cell_type": "code",
      "metadata": {
        "colab": {
          "base_uri": "https://localhost:8080/"
        },
        "id": "O_xbzdrIwiGi",
        "outputId": "df1dca48-aa07-4f0a-f68b-97109442d49b"
      },
      "source": [
        "!pip install openpyxl"
      ],
      "execution_count": null,
      "outputs": [
        {
          "output_type": "stream",
          "text": [
            "Requirement already satisfied: openpyxl in /usr/local/lib/python3.6/dist-packages (2.5.9)\n",
            "Requirement already satisfied: jdcal in /usr/local/lib/python3.6/dist-packages (from openpyxl) (1.4.1)\n",
            "Requirement already satisfied: et-xmlfile in /usr/local/lib/python3.6/dist-packages (from openpyxl) (1.0.1)\n"
          ],
          "name": "stdout"
        }
      ]
    },
    {
      "cell_type": "code",
      "metadata": {
        "id": "mlKGhO3ixCNp"
      },
      "source": [
        "import openpyxl\r\n",
        "import pandas as pd\r\n",
        "import glob"
      ],
      "execution_count": 1,
      "outputs": []
    },
    {
      "cell_type": "code",
      "metadata": {
        "id": "oylHnCMhxXR6"
      },
      "source": [
        "import_file_path = '/content/drive/My Drive/sample.xlsx'\r\n",
        "excel_sheet_name = '発注管理表'   # 編集するシート\r\n",
        "export_file_path = '/content/drive/My Drive/output'"
      ],
      "execution_count": 2,
      "outputs": []
    },
    {
      "cell_type": "code",
      "metadata": {
        "colab": {
          "base_uri": "https://localhost:8080/",
          "height": 35
        },
        "id": "cXkpBDKSyG8Y",
        "outputId": "03693498-5010-401c-8796-8c08412f0eb4"
      },
      "source": [
        "'/content/drive/My Drive/sample.xlsx'"
      ],
      "execution_count": null,
      "outputs": [
        {
          "output_type": "execute_result",
          "data": {
            "application/vnd.google.colaboratory.intrinsic+json": {
              "type": "string"
            },
            "text/plain": [
              "'/content/drive/My Drive/sample.xlsx'"
            ]
          },
          "metadata": {
            "tags": []
          },
          "execution_count": 4
        }
      ]
    },
    {
      "cell_type": "code",
      "metadata": {
        "colab": {
          "base_uri": "https://localhost:8080/",
          "height": 419
        },
        "id": "SkJnzsFzyTP3",
        "outputId": "246533e0-3f6d-4a15-f4bd-ff3aae3224a4"
      },
      "source": [
        "df_order = pd.read_excel(import_file_path, sheet_name=excel_sheet_name)\r\n",
        "df_order"
      ],
      "execution_count": 3,
      "outputs": [
        {
          "output_type": "execute_result",
          "data": {
            "text/html": [
              "<div>\n",
              "<style scoped>\n",
              "    .dataframe tbody tr th:only-of-type {\n",
              "        vertical-align: middle;\n",
              "    }\n",
              "\n",
              "    .dataframe tbody tr th {\n",
              "        vertical-align: top;\n",
              "    }\n",
              "\n",
              "    .dataframe thead th {\n",
              "        text-align: right;\n",
              "    }\n",
              "</style>\n",
              "<table border=\"1\" class=\"dataframe\">\n",
              "  <thead>\n",
              "    <tr style=\"text-align: right;\">\n",
              "      <th></th>\n",
              "      <th>会社名</th>\n",
              "      <th>商品番号</th>\n",
              "      <th>商品分類</th>\n",
              "      <th>商品名</th>\n",
              "      <th>単価（円）</th>\n",
              "      <th>数量</th>\n",
              "      <th>発注金額</th>\n",
              "    </tr>\n",
              "  </thead>\n",
              "  <tbody>\n",
              "    <tr>\n",
              "      <th>0</th>\n",
              "      <td>株式会社A</td>\n",
              "      <td>b023</td>\n",
              "      <td>ボトムス</td>\n",
              "      <td>ロングパンツ</td>\n",
              "      <td>7000</td>\n",
              "      <td>8</td>\n",
              "      <td>56000</td>\n",
              "    </tr>\n",
              "    <tr>\n",
              "      <th>1</th>\n",
              "      <td>株式会社A</td>\n",
              "      <td>b003</td>\n",
              "      <td>ボトムス</td>\n",
              "      <td>ジーンズ</td>\n",
              "      <td>6000</td>\n",
              "      <td>10</td>\n",
              "      <td>60000</td>\n",
              "    </tr>\n",
              "    <tr>\n",
              "      <th>2</th>\n",
              "      <td>株式会社A</td>\n",
              "      <td>b003</td>\n",
              "      <td>ボトムス</td>\n",
              "      <td>ロングパンツ</td>\n",
              "      <td>7000</td>\n",
              "      <td>10</td>\n",
              "      <td>70000</td>\n",
              "    </tr>\n",
              "    <tr>\n",
              "      <th>3</th>\n",
              "      <td>株式会社A</td>\n",
              "      <td>b036</td>\n",
              "      <td>ボトムス</td>\n",
              "      <td>ロングパンツ</td>\n",
              "      <td>7000</td>\n",
              "      <td>2</td>\n",
              "      <td>14000</td>\n",
              "    </tr>\n",
              "    <tr>\n",
              "      <th>4</th>\n",
              "      <td>株式会社A</td>\n",
              "      <td>b013</td>\n",
              "      <td>トップス</td>\n",
              "      <td>ニット</td>\n",
              "      <td>8000</td>\n",
              "      <td>7</td>\n",
              "      <td>56000</td>\n",
              "    </tr>\n",
              "    <tr>\n",
              "      <th>...</th>\n",
              "      <td>...</td>\n",
              "      <td>...</td>\n",
              "      <td>...</td>\n",
              "      <td>...</td>\n",
              "      <td>...</td>\n",
              "      <td>...</td>\n",
              "      <td>...</td>\n",
              "    </tr>\n",
              "    <tr>\n",
              "      <th>195</th>\n",
              "      <td>株式会社Y</td>\n",
              "      <td>b013</td>\n",
              "      <td>ボトムス</td>\n",
              "      <td>ハーフパンツ</td>\n",
              "      <td>3000</td>\n",
              "      <td>1</td>\n",
              "      <td>3000</td>\n",
              "    </tr>\n",
              "    <tr>\n",
              "      <th>196</th>\n",
              "      <td>株式会社Y</td>\n",
              "      <td>b036</td>\n",
              "      <td>アウター</td>\n",
              "      <td>ダウン</td>\n",
              "      <td>18000</td>\n",
              "      <td>3</td>\n",
              "      <td>54000</td>\n",
              "    </tr>\n",
              "    <tr>\n",
              "      <th>197</th>\n",
              "      <td>株式会社Z</td>\n",
              "      <td>b003</td>\n",
              "      <td>アウター</td>\n",
              "      <td>ダウン</td>\n",
              "      <td>18000</td>\n",
              "      <td>4</td>\n",
              "      <td>72000</td>\n",
              "    </tr>\n",
              "    <tr>\n",
              "      <th>198</th>\n",
              "      <td>株式会社Z</td>\n",
              "      <td>b047</td>\n",
              "      <td>ボトムス</td>\n",
              "      <td>ハーフパンツ</td>\n",
              "      <td>3000</td>\n",
              "      <td>3</td>\n",
              "      <td>9000</td>\n",
              "    </tr>\n",
              "    <tr>\n",
              "      <th>199</th>\n",
              "      <td>株式会社Z</td>\n",
              "      <td>b036</td>\n",
              "      <td>ボトムス</td>\n",
              "      <td>ロングパンツ</td>\n",
              "      <td>7000</td>\n",
              "      <td>10</td>\n",
              "      <td>70000</td>\n",
              "    </tr>\n",
              "  </tbody>\n",
              "</table>\n",
              "<p>200 rows × 7 columns</p>\n",
              "</div>"
            ],
            "text/plain": [
              "       会社名  商品番号  商品分類     商品名  単価（円）  数量   発注金額\n",
              "0    株式会社A  b023  ボトムス  ロングパンツ   7000   8  56000\n",
              "1    株式会社A  b003  ボトムス    ジーンズ   6000  10  60000\n",
              "2    株式会社A  b003  ボトムス  ロングパンツ   7000  10  70000\n",
              "3    株式会社A  b036  ボトムス  ロングパンツ   7000   2  14000\n",
              "4    株式会社A  b013  トップス     ニット   8000   7  56000\n",
              "..     ...   ...   ...     ...    ...  ..    ...\n",
              "195  株式会社Y  b013  ボトムス  ハーフパンツ   3000   1   3000\n",
              "196  株式会社Y  b036  アウター     ダウン  18000   3  54000\n",
              "197  株式会社Z  b003  アウター     ダウン  18000   4  72000\n",
              "198  株式会社Z  b047  ボトムス  ハーフパンツ   3000   3   9000\n",
              "199  株式会社Z  b036  ボトムス  ロングパンツ   7000  10  70000\n",
              "\n",
              "[200 rows x 7 columns]"
            ]
          },
          "metadata": {
            "tags": []
          },
          "execution_count": 3
        }
      ]
    },
    {
      "cell_type": "code",
      "metadata": {
        "id": "dHo3zkx51jkz"
      },
      "source": [
        "company_name = df_order['会社名'].unique() #会社名をユニークにして取得"
      ],
      "execution_count": 4,
      "outputs": []
    },
    {
      "cell_type": "code",
      "metadata": {
        "colab": {
          "base_uri": "https://localhost:8080/"
        },
        "id": "21ECSIPC2FW2",
        "outputId": "0b91beb6-58e0-4e2e-caaa-91e8da62a8a8"
      },
      "source": [
        "company_name"
      ],
      "execution_count": null,
      "outputs": [
        {
          "output_type": "execute_result",
          "data": {
            "text/plain": [
              "array(['株式会社A', '株式会社B', '株式会社C', '株式会社D', '株式会社E', '株式会社F', '株式会社G',\n",
              "       '株式会社H', '株式会社I', '株式会社J', '株式会社K', '株式会社L', '株式会社M', '株式会社N',\n",
              "       '株式会社O', '株式会社P', '株式会社Q', '株式会社R', '株式会社S', '株式会社T', '株式会社U',\n",
              "       '株式会社V', '株式会社W', '株式会社X', '株式会社Y', '株式会社Z'], dtype=object)"
            ]
          },
          "metadata": {
            "tags": []
          },
          "execution_count": 7
        }
      ]
    },
    {
      "cell_type": "code",
      "metadata": {
        "colab": {
          "base_uri": "https://localhost:8080/"
        },
        "id": "T4C86HUb2IvK",
        "outputId": "6b70ae71-11fa-4e31-a85c-d59e72f7f20a"
      },
      "source": [
        "type(company_name)"
      ],
      "execution_count": null,
      "outputs": [
        {
          "output_type": "execute_result",
          "data": {
            "text/plain": [
              "numpy.ndarray"
            ]
          },
          "metadata": {
            "tags": []
          },
          "execution_count": 8
        }
      ]
    },
    {
      "cell_type": "code",
      "metadata": {
        "colab": {
          "base_uri": "https://localhost:8080/"
        },
        "id": "rjyT0JAU2emI",
        "outputId": "1a6cca6d-9441-4429-9542-4bcc6ba10d7a"
      },
      "source": [
        "type(df_order)"
      ],
      "execution_count": null,
      "outputs": [
        {
          "output_type": "execute_result",
          "data": {
            "text/plain": [
              "pandas.core.frame.DataFrame"
            ]
          },
          "metadata": {
            "tags": []
          },
          "execution_count": 9
        }
      ]
    },
    {
      "cell_type": "code",
      "metadata": {
        "colab": {
          "base_uri": "https://localhost:8080/"
        },
        "id": "sPQ8GxE72mHR",
        "outputId": "b4211e69-2564-4a53-9c32-30f7c8527191"
      },
      "source": [
        "df_order['会社名'] == '株式会社A'"
      ],
      "execution_count": null,
      "outputs": [
        {
          "output_type": "execute_result",
          "data": {
            "text/plain": [
              "0       True\n",
              "1       True\n",
              "2       True\n",
              "3       True\n",
              "4       True\n",
              "       ...  \n",
              "195    False\n",
              "196    False\n",
              "197    False\n",
              "198    False\n",
              "199    False\n",
              "Name: 会社名, Length: 200, dtype: bool"
            ]
          },
          "metadata": {
            "tags": []
          },
          "execution_count": 10
        }
      ]
    },
    {
      "cell_type": "code",
      "metadata": {
        "colab": {
          "base_uri": "https://localhost:8080/",
          "height": 421
        },
        "id": "2KffUlC921aZ",
        "outputId": "7ce20390-6380-43e4-9a2b-c3eb3653937f"
      },
      "source": [
        "df_order[df_order['会社名']=='株式会社A']"
      ],
      "execution_count": 5,
      "outputs": [
        {
          "output_type": "execute_result",
          "data": {
            "text/html": [
              "<div>\n",
              "<style scoped>\n",
              "    .dataframe tbody tr th:only-of-type {\n",
              "        vertical-align: middle;\n",
              "    }\n",
              "\n",
              "    .dataframe tbody tr th {\n",
              "        vertical-align: top;\n",
              "    }\n",
              "\n",
              "    .dataframe thead th {\n",
              "        text-align: right;\n",
              "    }\n",
              "</style>\n",
              "<table border=\"1\" class=\"dataframe\">\n",
              "  <thead>\n",
              "    <tr style=\"text-align: right;\">\n",
              "      <th></th>\n",
              "      <th>会社名</th>\n",
              "      <th>商品番号</th>\n",
              "      <th>商品分類</th>\n",
              "      <th>商品名</th>\n",
              "      <th>単価（円）</th>\n",
              "      <th>数量</th>\n",
              "      <th>発注金額</th>\n",
              "    </tr>\n",
              "  </thead>\n",
              "  <tbody>\n",
              "    <tr>\n",
              "      <th>0</th>\n",
              "      <td>株式会社A</td>\n",
              "      <td>b023</td>\n",
              "      <td>ボトムス</td>\n",
              "      <td>ロングパンツ</td>\n",
              "      <td>7000</td>\n",
              "      <td>8</td>\n",
              "      <td>56000</td>\n",
              "    </tr>\n",
              "    <tr>\n",
              "      <th>1</th>\n",
              "      <td>株式会社A</td>\n",
              "      <td>b003</td>\n",
              "      <td>ボトムス</td>\n",
              "      <td>ジーンズ</td>\n",
              "      <td>6000</td>\n",
              "      <td>10</td>\n",
              "      <td>60000</td>\n",
              "    </tr>\n",
              "    <tr>\n",
              "      <th>2</th>\n",
              "      <td>株式会社A</td>\n",
              "      <td>b003</td>\n",
              "      <td>ボトムス</td>\n",
              "      <td>ロングパンツ</td>\n",
              "      <td>7000</td>\n",
              "      <td>10</td>\n",
              "      <td>70000</td>\n",
              "    </tr>\n",
              "    <tr>\n",
              "      <th>3</th>\n",
              "      <td>株式会社A</td>\n",
              "      <td>b036</td>\n",
              "      <td>ボトムス</td>\n",
              "      <td>ロングパンツ</td>\n",
              "      <td>7000</td>\n",
              "      <td>2</td>\n",
              "      <td>14000</td>\n",
              "    </tr>\n",
              "    <tr>\n",
              "      <th>4</th>\n",
              "      <td>株式会社A</td>\n",
              "      <td>b013</td>\n",
              "      <td>トップス</td>\n",
              "      <td>ニット</td>\n",
              "      <td>8000</td>\n",
              "      <td>7</td>\n",
              "      <td>56000</td>\n",
              "    </tr>\n",
              "    <tr>\n",
              "      <th>5</th>\n",
              "      <td>株式会社A</td>\n",
              "      <td>b047</td>\n",
              "      <td>アウター</td>\n",
              "      <td>ダウン</td>\n",
              "      <td>18000</td>\n",
              "      <td>7</td>\n",
              "      <td>126000</td>\n",
              "    </tr>\n",
              "    <tr>\n",
              "      <th>6</th>\n",
              "      <td>株式会社A</td>\n",
              "      <td>b013</td>\n",
              "      <td>トップス</td>\n",
              "      <td>ニット</td>\n",
              "      <td>8000</td>\n",
              "      <td>5</td>\n",
              "      <td>40000</td>\n",
              "    </tr>\n",
              "    <tr>\n",
              "      <th>7</th>\n",
              "      <td>株式会社A</td>\n",
              "      <td>b013</td>\n",
              "      <td>ボトムス</td>\n",
              "      <td>ハーフパンツ</td>\n",
              "      <td>3000</td>\n",
              "      <td>9</td>\n",
              "      <td>27000</td>\n",
              "    </tr>\n",
              "    <tr>\n",
              "      <th>8</th>\n",
              "      <td>株式会社A</td>\n",
              "      <td>b047</td>\n",
              "      <td>ボトムス</td>\n",
              "      <td>ロングパンツ</td>\n",
              "      <td>7000</td>\n",
              "      <td>1</td>\n",
              "      <td>7000</td>\n",
              "    </tr>\n",
              "    <tr>\n",
              "      <th>9</th>\n",
              "      <td>株式会社A</td>\n",
              "      <td>b036</td>\n",
              "      <td>ボトムス</td>\n",
              "      <td>ハーフパンツ</td>\n",
              "      <td>3000</td>\n",
              "      <td>5</td>\n",
              "      <td>15000</td>\n",
              "    </tr>\n",
              "    <tr>\n",
              "      <th>10</th>\n",
              "      <td>株式会社A</td>\n",
              "      <td>b003</td>\n",
              "      <td>トップス</td>\n",
              "      <td>シャツ</td>\n",
              "      <td>4000</td>\n",
              "      <td>1</td>\n",
              "      <td>4000</td>\n",
              "    </tr>\n",
              "    <tr>\n",
              "      <th>11</th>\n",
              "      <td>株式会社A</td>\n",
              "      <td>b003</td>\n",
              "      <td>アウター</td>\n",
              "      <td>ダウン</td>\n",
              "      <td>18000</td>\n",
              "      <td>1</td>\n",
              "      <td>18000</td>\n",
              "    </tr>\n",
              "  </tbody>\n",
              "</table>\n",
              "</div>"
            ],
            "text/plain": [
              "      会社名  商品番号  商品分類     商品名  単価（円）  数量    発注金額\n",
              "0   株式会社A  b023  ボトムス  ロングパンツ   7000   8   56000\n",
              "1   株式会社A  b003  ボトムス    ジーンズ   6000  10   60000\n",
              "2   株式会社A  b003  ボトムス  ロングパンツ   7000  10   70000\n",
              "3   株式会社A  b036  ボトムス  ロングパンツ   7000   2   14000\n",
              "4   株式会社A  b013  トップス     ニット   8000   7   56000\n",
              "5   株式会社A  b047  アウター     ダウン  18000   7  126000\n",
              "6   株式会社A  b013  トップス     ニット   8000   5   40000\n",
              "7   株式会社A  b013  ボトムス  ハーフパンツ   3000   9   27000\n",
              "8   株式会社A  b047  ボトムス  ロングパンツ   7000   1    7000\n",
              "9   株式会社A  b036  ボトムス  ハーフパンツ   3000   5   15000\n",
              "10  株式会社A  b003  トップス     シャツ   4000   1    4000\n",
              "11  株式会社A  b003  アウター     ダウン  18000   1   18000"
            ]
          },
          "metadata": {
            "tags": []
          },
          "execution_count": 5
        }
      ]
    },
    {
      "cell_type": "code",
      "metadata": {
        "colab": {
          "base_uri": "https://localhost:8080/"
        },
        "id": "DyfmZb3I3R9f",
        "outputId": "b80322e8-5400-4d22-e8d4-ec29b2c9cc00"
      },
      "source": [
        "# フィルタリングして別ファイルに保存する\r\n",
        "for i in company_name:\r\n",
        "  print(i)"
      ],
      "execution_count": 6,
      "outputs": [
        {
          "output_type": "stream",
          "text": [
            "株式会社A\n",
            "株式会社B\n",
            "株式会社C\n",
            "株式会社D\n",
            "株式会社E\n",
            "株式会社F\n",
            "株式会社G\n",
            "株式会社H\n",
            "株式会社I\n",
            "株式会社J\n",
            "株式会社K\n",
            "株式会社L\n",
            "株式会社M\n",
            "株式会社N\n",
            "株式会社O\n",
            "株式会社P\n",
            "株式会社Q\n",
            "株式会社R\n",
            "株式会社S\n",
            "株式会社T\n",
            "株式会社U\n",
            "株式会社V\n",
            "株式会社W\n",
            "株式会社X\n",
            "株式会社Y\n",
            "株式会社Z\n"
          ],
          "name": "stdout"
        }
      ]
    },
    {
      "cell_type": "code",
      "metadata": {
        "id": "8vYwEwBf3gwM",
        "colab": {
          "base_uri": "https://localhost:8080/"
        },
        "outputId": "93f9eeb5-2dd9-4410-ff41-297659c74792"
      },
      "source": [
        "for i in company_name:\r\n",
        "  df_order_company = df_order[df_order['会社名']== i]\r\n",
        "  print(df_order_company)"
      ],
      "execution_count": 14,
      "outputs": [
        {
          "output_type": "stream",
          "text": [
            "      会社名  商品番号  商品分類     商品名  単価（円）  数量    発注金額\n",
            "0   株式会社A  b023  ボトムス  ロングパンツ   7000   8   56000\n",
            "1   株式会社A  b003  ボトムス    ジーンズ   6000  10   60000\n",
            "2   株式会社A  b003  ボトムス  ロングパンツ   7000  10   70000\n",
            "3   株式会社A  b036  ボトムス  ロングパンツ   7000   2   14000\n",
            "4   株式会社A  b013  トップス     ニット   8000   7   56000\n",
            "5   株式会社A  b047  アウター     ダウン  18000   7  126000\n",
            "6   株式会社A  b013  トップス     ニット   8000   5   40000\n",
            "7   株式会社A  b013  ボトムス  ハーフパンツ   3000   9   27000\n",
            "8   株式会社A  b047  ボトムス  ロングパンツ   7000   1    7000\n",
            "9   株式会社A  b036  ボトムス  ハーフパンツ   3000   5   15000\n",
            "10  株式会社A  b003  トップス     シャツ   4000   1    4000\n",
            "11  株式会社A  b003  アウター     ダウン  18000   1   18000\n",
            "      会社名  商品番号  商品分類     商品名  単価（円）  数量   発注金額\n",
            "12  株式会社B  b036  アウター     ダウン  18000   3  54000\n",
            "13  株式会社B  b047  トップス     シャツ   4000   1   4000\n",
            "14  株式会社B  b003  ボトムス  ロングパンツ   7000   6  42000\n",
            "15  株式会社B  b036  トップス     シャツ   4000   5  20000\n",
            "16  株式会社B  b003  トップス     シャツ   4000   6  24000\n",
            "17  株式会社B  b013  ボトムス  ロングパンツ   7000   5  35000\n",
            "18  株式会社B  b003  ボトムス  ロングパンツ   7000   4  28000\n",
            "19  株式会社B  b036  トップス     シャツ   4000   5  20000\n",
            "      会社名  商品番号  商品分類     商品名  単価（円）  数量    発注金額\n",
            "20  株式会社C  b047  アウター     ダウン  18000   8  144000\n",
            "21  株式会社C  b047  ボトムス  ハーフパンツ   3000   9   27000\n",
            "22  株式会社C  b047  ボトムス  ロングパンツ   7000   3   21000\n",
            "23  株式会社C  b047  トップス     ニット   8000   2   16000\n",
            "24  株式会社C  b003  アウター     ダウン  18000   4   72000\n",
            "25  株式会社C  b023  アウター   ジャケット  10000   7   70000\n",
            "26  株式会社C  b013  ボトムス  ロングパンツ   7000  10   70000\n",
            "27  株式会社C  b047  ボトムス  ロングパンツ   7000   5   35000\n",
            "      会社名  商品番号  商品分類     商品名  単価（円）  数量   発注金額\n",
            "28  株式会社D  b036  トップス     シャツ   4000   1   4000\n",
            "29  株式会社D  b003  アウター   ジャケット  10000   1  10000\n",
            "30  株式会社D  b036  ボトムス  ハーフパンツ   3000   3   9000\n",
            "31  株式会社D  b036  ボトムス  ハーフパンツ   3000   7  21000\n",
            "32  株式会社D  b013  トップス     ニット   8000   7  56000\n",
            "33  株式会社D  b013  トップス     シャツ   4000   4  16000\n",
            "34  株式会社D  b023  トップス     シャツ   4000   4  16000\n",
            "35  株式会社D  b023  ボトムス  ロングパンツ   7000   9  63000\n",
            "36  株式会社D  b003  ボトムス    ジーンズ   6000   2  12000\n",
            "37  株式会社D  b013  ボトムス  ロングパンツ   7000   6  42000\n",
            "38  株式会社D  b047  アウター   ジャケット  10000   9  90000\n",
            "39  株式会社D  b013  ボトムス    ジーンズ   6000   1   6000\n",
            "40  株式会社D  b036  アウター     ダウン  18000   1  18000\n",
            "41  株式会社D  b013  ボトムス  ロングパンツ   7000   8  56000\n",
            "42  株式会社D  b013  ボトムス  ハーフパンツ   3000   5  15000\n",
            "43  株式会社D  b013  トップス     シャツ   4000   6  24000\n",
            "44  株式会社D  b036  トップス     シャツ   4000   8  32000\n",
            "45  株式会社D  b023  ボトムス  ハーフパンツ   3000   8  24000\n",
            "46  株式会社D  b003  ボトムス  ロングパンツ   7000   3  21000\n",
            "      会社名  商品番号  商品分類     商品名  単価（円）  数量   発注金額\n",
            "47  株式会社E  b047  トップス     ニット   8000   8  64000\n",
            "48  株式会社E  b003  ボトムス  ロングパンツ   7000   8  56000\n",
            "49  株式会社E  b023  トップス     ニット   8000  10  80000\n",
            "      会社名  商品番号  商品分類     商品名  単価（円）  数量   発注金額\n",
            "50  株式会社F  b003  ボトムス  ロングパンツ   7000   3  21000\n",
            "51  株式会社F  b003  ボトムス    ジーンズ   6000   4  24000\n",
            "52  株式会社F  b036  アウター   ジャケット  10000   3  30000\n",
            "53  株式会社F  b003  トップス     ニット   8000   1   8000\n",
            "54  株式会社F  b003  トップス     ニット   8000   6  48000\n",
            "55  株式会社F  b036  トップス     ニット   8000   3  24000\n",
            "56  株式会社F  b013  アウター   ジャケット  10000   7  70000\n",
            "57  株式会社F  b023  ボトムス    ジーンズ   6000   4  24000\n",
            "58  株式会社F  b023  ボトムス    ジーンズ   6000   1   6000\n",
            "59  株式会社F  b047  トップス     シャツ   4000  10  40000\n",
            "60  株式会社F  b013  ボトムス    ジーンズ   6000   5  30000\n",
            "61  株式会社F  b003  アウター   ジャケット  10000   6  60000\n",
            "      会社名  商品番号  商品分類     商品名  単価（円）  数量    発注金額\n",
            "62  株式会社G  b023  トップス     ニット   8000   6   48000\n",
            "63  株式会社G  b036  アウター   ジャケット  10000  10  100000\n",
            "64  株式会社G  b003  ボトムス  ロングパンツ   7000   6   42000\n",
            "65  株式会社G  b036  ボトムス  ロングパンツ   7000   1    7000\n",
            "66  株式会社G  b023  トップス     ニット   8000  10   80000\n",
            "67  株式会社G  b003  トップス     シャツ   4000   7   28000\n",
            "68  株式会社G  b003  ボトムス    ジーンズ   6000   5   30000\n",
            "69  株式会社G  b047  ボトムス  ハーフパンツ   3000   6   18000\n",
            "70  株式会社G  b023  アウター     ダウン  18000   4   72000\n",
            "71  株式会社G  b013  ボトムス    ジーンズ   6000   7   42000\n",
            "72  株式会社G  b023  トップス     ニット   8000   4   32000\n",
            "73  株式会社G  b047  アウター   ジャケット  10000   6   60000\n",
            "      会社名  商品番号  商品分類     商品名  単価（円）  数量    発注金額\n",
            "74  株式会社H  b003  ボトムス  ロングパンツ   7000   7   49000\n",
            "75  株式会社H  b023  トップス     シャツ   4000   1    4000\n",
            "76  株式会社H  b023  アウター     ダウン  18000   9  162000\n",
            "      会社名  商品番号  商品分類     商品名  単価（円）  数量   発注金額\n",
            "77  株式会社I  b036  ボトムス  ロングパンツ   7000   2  14000\n",
            "78  株式会社I  b003  トップス     ニット   8000   8  64000\n",
            "79  株式会社I  b023  ボトムス    ジーンズ   6000   5  30000\n",
            "80  株式会社I  b036  トップス     ニット   8000   2  16000\n",
            "81  株式会社I  b003  トップス     ニット   8000   5  40000\n",
            "82  株式会社I  b047  ボトムス  ロングパンツ   7000   6  42000\n",
            "      会社名  商品番号  商品分類   商品名  単価（円）  数量   発注金額\n",
            "83  株式会社J  b036  トップス   ニット   8000   5  40000\n",
            "84  株式会社J  b013  ボトムス  ジーンズ   6000  10  60000\n",
            "      会社名  商品番号  商品分類     商品名  単価（円）  数量   発注金額\n",
            "85  株式会社K  b003  トップス     ニット   8000   8  64000\n",
            "86  株式会社K  b013  ボトムス  ハーフパンツ   3000   2   6000\n",
            "87  株式会社K  b036  ボトムス    ジーンズ   6000  10  60000\n",
            "      会社名  商品番号  商品分類     商品名  単価（円）  数量   発注金額\n",
            "88  株式会社L  b023  アウター   ジャケット  10000   2  20000\n",
            "89  株式会社L  b003  ボトムス  ハーフパンツ   3000   7  21000\n",
            "90  株式会社L  b013  ボトムス  ロングパンツ   7000   5  35000\n",
            "      会社名  商品番号  商品分類     商品名  単価（円）  数量    発注金額\n",
            "91  株式会社M  b047  アウター     ダウン  18000   7  126000\n",
            "92  株式会社M  b023  ボトムス  ハーフパンツ   3000   4   12000\n",
            "      会社名  商品番号  商品分類     商品名  単価（円）  数量    発注金額\n",
            "93  株式会社N  b013  ボトムス  ハーフパンツ   3000  10   30000\n",
            "94  株式会社N  b023  ボトムス    ジーンズ   6000   4   24000\n",
            "95  株式会社N  b036  アウター     ダウン  18000   7  126000\n",
            "96  株式会社N  b047  アウター   ジャケット  10000   9   90000\n",
            "      会社名  商品番号  商品分類     商品名  単価（円）  数量   発注金額\n",
            "97  株式会社O  b003  トップス     ニット   8000   8  64000\n",
            "98  株式会社O  b003  アウター   ジャケット  10000   1  10000\n",
            "99  株式会社O  b003  ボトムス  ハーフパンツ   3000   4  12000\n",
            "       会社名  商品番号  商品分類  商品名  単価（円）  数量   発注金額\n",
            "100  株式会社P  b003  トップス  ニット   8000   7  56000\n",
            "       会社名  商品番号  商品分類     商品名  単価（円）  数量   発注金額\n",
            "101  株式会社Q  b003  ボトムス  ロングパンツ   7000   8  56000\n",
            "102  株式会社Q  b013  アウター   ジャケット  10000   2  20000\n",
            "103  株式会社Q  b023  トップス     ニット   8000   6  48000\n",
            "104  株式会社Q  b047  ボトムス  ハーフパンツ   3000  10  30000\n",
            "105  株式会社Q  b013  ボトムス  ロングパンツ   7000   9  63000\n",
            "106  株式会社Q  b023  ボトムス    ジーンズ   6000   1   6000\n",
            "107  株式会社Q  b003  トップス     シャツ   4000   7  28000\n",
            "108  株式会社Q  b003  ボトムス  ハーフパンツ   3000   1   3000\n",
            "109  株式会社Q  b023  ボトムス  ロングパンツ   7000   5  35000\n",
            "       会社名  商品番号  商品分類     商品名  単価（円）  数量    発注金額\n",
            "110  株式会社R  b023  トップス     シャツ   4000   1    4000\n",
            "111  株式会社R  b013  ボトムス  ロングパンツ   7000   8   56000\n",
            "112  株式会社R  b023  ボトムス    ジーンズ   6000   8   48000\n",
            "113  株式会社R  b023  ボトムス  ロングパンツ   7000   1    7000\n",
            "114  株式会社R  b036  アウター     ダウン  18000   8  144000\n",
            "115  株式会社R  b003  ボトムス  ロングパンツ   7000   5   35000\n",
            "116  株式会社R  b003  アウター     ダウン  18000   3   54000\n",
            "117  株式会社R  b023  ボトムス    ジーンズ   6000   3   18000\n",
            "118  株式会社R  b003  ボトムス  ハーフパンツ   3000   9   27000\n",
            "119  株式会社R  b023  アウター   ジャケット  10000   7   70000\n",
            "120  株式会社R  b003  トップス     ニット   8000   1    8000\n",
            "121  株式会社R  b003  ボトムス    ジーンズ   6000   3   18000\n",
            "122  株式会社R  b036  アウター     ダウン  18000  10  180000\n",
            "123  株式会社R  b013  アウター     ダウン  18000   9  162000\n",
            "124  株式会社R  b023  アウター   ジャケット  10000   4   40000\n",
            "125  株式会社R  b036  ボトムス  ハーフパンツ   3000   6   18000\n",
            "126  株式会社R  b003  ボトムス  ロングパンツ   7000   9   63000\n",
            "127  株式会社R  b003  アウター     ダウン  18000   4   72000\n",
            "128  株式会社R  b023  アウター   ジャケット  10000   6   60000\n",
            "129  株式会社R  b013  ボトムス  ロングパンツ   7000   1    7000\n",
            "130  株式会社R  b013  ボトムス    ジーンズ   6000   6   36000\n",
            "131  株式会社R  b023  アウター     ダウン  18000   1   18000\n",
            "132  株式会社R  b013  ボトムス    ジーンズ   6000   7   42000\n",
            "133  株式会社R  b013  アウター     ダウン  18000   4   72000\n",
            "134  株式会社R  b023  アウター   ジャケット  10000   1   10000\n",
            "135  株式会社R  b013  トップス     シャツ   4000   7   28000\n",
            "       会社名  商品番号  商品分類     商品名  単価（円）  数量   発注金額\n",
            "136  株式会社S  b013  ボトムス  ロングパンツ   7000   6  42000\n",
            "137  株式会社S  b036  ボトムス  ハーフパンツ   3000   2   6000\n",
            "138  株式会社S  b036  トップス     ニット   8000   7  56000\n",
            "139  株式会社S  b047  ボトムス  ロングパンツ   7000   4  28000\n",
            "140  株式会社S  b003  ボトムス  ロングパンツ   7000   6  42000\n",
            "       会社名  商品番号  商品分類     商品名  単価（円）  数量    発注金額\n",
            "141  株式会社T  b047  トップス     シャツ   4000   7   28000\n",
            "142  株式会社T  b013  ボトムス    ジーンズ   6000   8   48000\n",
            "143  株式会社T  b003  アウター   ジャケット  10000   9   90000\n",
            "144  株式会社T  b023  アウター     ダウン  18000   8  144000\n",
            "145  株式会社T  b023  トップス     シャツ   4000   8   32000\n",
            "146  株式会社T  b003  アウター   ジャケット  10000  10  100000\n",
            "147  株式会社T  b003  トップス     シャツ   4000   2    8000\n",
            "148  株式会社T  b036  ボトムス  ロングパンツ   7000   7   49000\n",
            "149  株式会社T  b036  トップス     シャツ   4000   6   24000\n",
            "150  株式会社T  b047  ボトムス    ジーンズ   6000   4   24000\n",
            "151  株式会社T  b023  トップス     ニット   8000   8   64000\n",
            "       会社名  商品番号  商品分類     商品名  単価（円）  数量   発注金額\n",
            "152  株式会社U  b003  アウター     ダウン  18000   3  54000\n",
            "153  株式会社U  b013  アウター   ジャケット  10000   8  80000\n",
            "154  株式会社U  b023  ボトムス  ハーフパンツ   3000   3   9000\n",
            "155  株式会社U  b013  トップス     ニット   8000   5  40000\n",
            "156  株式会社U  b047  トップス     ニット   8000  10  80000\n",
            "157  株式会社U  b036  トップス     シャツ   4000   8  32000\n",
            "158  株式会社U  b047  ボトムス  ハーフパンツ   3000   3   9000\n",
            "159  株式会社U  b013  ボトムス  ロングパンツ   7000   1   7000\n",
            "160  株式会社U  b003  アウター   ジャケット  10000   7  70000\n",
            "161  株式会社U  b003  トップス     ニット   8000   7  56000\n",
            "162  株式会社U  b023  ボトムス  ハーフパンツ   3000   8  24000\n",
            "163  株式会社U  b047  ボトムス  ロングパンツ   7000   9  63000\n",
            "164  株式会社U  b003  アウター   ジャケット  10000   2  20000\n",
            "165  株式会社U  b013  トップス     ニット   8000  10  80000\n",
            "       会社名  商品番号  商品分類     商品名  単価（円）  数量   発注金額\n",
            "166  株式会社V  b023  トップス     ニット   8000   1   8000\n",
            "167  株式会社V  b036  ボトムス    ジーンズ   6000   5  30000\n",
            "168  株式会社V  b036  ボトムス    ジーンズ   6000   8  48000\n",
            "169  株式会社V  b023  トップス     シャツ   4000   2   8000\n",
            "170  株式会社V  b036  アウター   ジャケット  10000   1  10000\n",
            "171  株式会社V  b036  アウター   ジャケット  10000   7  70000\n",
            "172  株式会社V  b003  アウター   ジャケット  10000   5  50000\n",
            "173  株式会社V  b013  ボトムス  ロングパンツ   7000   5  35000\n",
            "174  株式会社V  b013  ボトムス    ジーンズ   6000   8  48000\n",
            "175  株式会社V  b047  トップス     ニット   8000   8  64000\n",
            "       会社名  商品番号  商品分類     商品名  単価（円）  数量    発注金額\n",
            "176  株式会社W  b003  アウター     ダウン  18000  10  180000\n",
            "177  株式会社W  b047  ボトムス  ロングパンツ   7000   7   49000\n",
            "178  株式会社W  b023  アウター     ダウン  18000   7  126000\n",
            "179  株式会社W  b047  ボトムス    ジーンズ   6000   9   54000\n",
            "180  株式会社W  b003  ボトムス  ハーフパンツ   3000   5   15000\n",
            "181  株式会社W  b013  ボトムス    ジーンズ   6000   7   42000\n",
            "182  株式会社W  b003  ボトムス    ジーンズ   6000   2   12000\n",
            "183  株式会社W  b003  ボトムス    ジーンズ   6000   6   36000\n",
            "184  株式会社W  b003  ボトムス  ロングパンツ   7000   7   49000\n",
            "       会社名  商品番号  商品分類     商品名  単価（円）  数量    発注金額\n",
            "185  株式会社X  b003  ボトムス  ハーフパンツ   3000   3    9000\n",
            "186  株式会社X  b023  ボトムス    ジーンズ   6000   4   24000\n",
            "187  株式会社X  b003  アウター   ジャケット  10000   9   90000\n",
            "188  株式会社X  b003  トップス     ニット   8000   8   64000\n",
            "189  株式会社X  b023  アウター     ダウン  18000   7  126000\n",
            "190  株式会社X  b003  ボトムス  ハーフパンツ   3000   5   15000\n",
            "191  株式会社X  b013  アウター   ジャケット  10000   6   60000\n",
            "       会社名  商品番号  商品分類     商品名  単価（円）  数量   発注金額\n",
            "192  株式会社Y  b036  トップス     シャツ   4000   6  24000\n",
            "193  株式会社Y  b023  ボトムス    ジーンズ   6000   8  48000\n",
            "194  株式会社Y  b003  ボトムス  ハーフパンツ   3000   5  15000\n",
            "195  株式会社Y  b013  ボトムス  ハーフパンツ   3000   1   3000\n",
            "196  株式会社Y  b036  アウター     ダウン  18000   3  54000\n",
            "       会社名  商品番号  商品分類     商品名  単価（円）  数量   発注金額\n",
            "197  株式会社Z  b003  アウター     ダウン  18000   4  72000\n",
            "198  株式会社Z  b047  ボトムス  ハーフパンツ   3000   3   9000\n",
            "199  株式会社Z  b036  ボトムス  ロングパンツ   7000  10  70000\n"
          ],
          "name": "stdout"
        }
      ]
    },
    {
      "cell_type": "code",
      "metadata": {
        "id": "rdlIlVFB4BdE"
      },
      "source": [
        "for i in company_name:\r\n",
        "    df_order_company = df_order[df_order['会社名']==i]\r\n",
        "    df_goods = df_order_company.groupby('商品番号').sum()\r\n",
        "    df_goods.to_excel(export_file_path + '/' +i+ '.xlsx')\r\n",
        "    #df_test = pd.DataFrame(df_goods.sum(axis='columns'),columns=['発注金額'])\r\n",
        "    #print(df_test)\r\n",
        "    #df_goods  = pd.concat([df_goods, pd.DataFrame(df_goods.sum(axis=1),columns=['発注金額'])],axis=1)\r\n",
        "    #print(df_goods)\r\n",
        "\r\n",
        " \r\n",
        "    #account = df_goods['発注金額'].sum()\r\n",
        "    #df_account = pd.DataFrame([[\"\",\"\",\"\",\"\",\"\",\"\",account]], columns=[\"会社名\",\"商品番号\",\"商品分類\",\"商品名\",\"単価（円）\",\"数量\", \"発注金額\"])\r\n",
        "    #df_goods = df_goods.append(df_account, ignore_index = True)\r\n",
        "    # print(df_goods)\r\n",
        "   \r\n",
        "#  df_goods_no = df_order_company['商品番号'].unique()\r\n",
        "#  df.groupby('category').sum()\r\n",
        "#  df_concat=pd.DataFrame()\r\n",
        "#  for j in df_goods_no:\r\n",
        "#    df_order_goods = df_order_company[df_order_company['商品番号']==j]\r\n",
        "#    df_concat = pd.concat([df_concat, df_order_goods])\r\n",
        "#  df_concat= df_concat[['単価（円）','数量'].sum()]\r\n",
        "\r\n",
        "#  print(i)\r\n",
        "#  print(df_goods)  \r\n",
        "\r\n",
        "  "
      ],
      "execution_count": 22,
      "outputs": []
    },
    {
      "cell_type": "code",
      "metadata": {
        "id": "ypOU7KKa6eW6"
      },
      "source": [
        ""
      ],
      "execution_count": null,
      "outputs": []
    }
  ]
}